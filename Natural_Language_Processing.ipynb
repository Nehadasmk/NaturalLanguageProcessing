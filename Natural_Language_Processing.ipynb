{
  "nbformat": 4,
  "nbformat_minor": 0,
  "metadata": {
    "colab": {
      "provenance": [],
      "authorship_tag": "ABX9TyN0Jiq6V/cpXiQyHW0bfNdx",
      "include_colab_link": true
    },
    "kernelspec": {
      "name": "python3",
      "display_name": "Python 3"
    },
    "language_info": {
      "name": "python"
    }
  },
  "cells": [
    {
      "cell_type": "markdown",
      "metadata": {
        "id": "view-in-github",
        "colab_type": "text"
      },
      "source": [
        "<a href=\"https://colab.research.google.com/github/Nehadasmk/NaturalLanguageProcessing/blob/main/Natural_Language_Processing.ipynb\" target=\"_parent\"><img src=\"https://colab.research.google.com/assets/colab-badge.svg\" alt=\"Open In Colab\"/></a>"
      ]
    },
    {
      "cell_type": "code",
      "execution_count": null,
      "metadata": {
        "id": "5ZYNR89Coy1X"
      },
      "outputs": [],
      "source": [
        " paragraph = \"\"\" Natural Language Processing (NLP) is a fascinating field of study! It's a branch of artificial intelligence (AI) that focuses on the interaction between computers and humans through natural language. NLP involves several tasks such as text analysis, sentiment analysis, machine translation, and much more. In recent years, the advancements in NLP have been remarkable, with technologies like GPT-3 making headlines. Email: example@example.com. Visit us at http://www.example.com for more information. \"\"\""
      ]
    },
    {
      "cell_type": "code",
      "source": [
        "paragraph"
      ],
      "metadata": {
        "colab": {
          "base_uri": "https://localhost:8080/",
          "height": 144
        },
        "id": "uClQJBFqzI3r",
        "outputId": "fef6f73a-7094-45db-f5cf-b3fa30b766ca"
      },
      "execution_count": null,
      "outputs": [
        {
          "output_type": "execute_result",
          "data": {
            "text/plain": [
              "\" Natural Language Processing (NLP) is a fascinating field of study! It's a branch of artificial intelligence (AI) that focuses on the interaction between computers and humans through natural language. NLP involves several tasks such as text analysis, sentiment analysis, machine translation, and much more. In recent years, the advancements in NLP have been remarkable, with technologies like GPT-3 making headlines. Email: example@example.com. Visit us at http://www.example.com for more information. \""
            ],
            "application/vnd.google.colaboratory.intrinsic+json": {
              "type": "string"
            }
          },
          "metadata": {},
          "execution_count": 105
        }
      ]
    },
    {
      "cell_type": "code",
      "source": [
        "import nltk\n",
        "from nltk.stem import PorterStemmer\n",
        "from nltk.corpus import stopwords"
      ],
      "metadata": {
        "id": "fNCmT63fzTlM"
      },
      "execution_count": null,
      "outputs": []
    },
    {
      "cell_type": "code",
      "source": [
        "##tokenization -- convrts paragraphs - sentences -words\n",
        "nltk.download('punkt')\n",
        "sentences = nltk.sent_tokenize(paragraph)"
      ],
      "metadata": {
        "colab": {
          "base_uri": "https://localhost:8080/"
        },
        "id": "8N3usyl1zToG",
        "outputId": "edda6a8e-0709-4e0d-c2a1-4e7596757196"
      },
      "execution_count": null,
      "outputs": [
        {
          "output_type": "stream",
          "name": "stderr",
          "text": [
            "[nltk_data] Downloading package punkt to /root/nltk_data...\n",
            "[nltk_data]   Package punkt is already up-to-date!\n"
          ]
        }
      ]
    },
    {
      "cell_type": "code",
      "source": [
        "print(sentences)"
      ],
      "metadata": {
        "colab": {
          "base_uri": "https://localhost:8080/"
        },
        "id": "Anfjbh9czTrH",
        "outputId": "f34148fe-fec3-4e12-a032-e9a329acd45b"
      },
      "execution_count": null,
      "outputs": [
        {
          "output_type": "stream",
          "name": "stdout",
          "text": [
            "[' Natural Language Processing (NLP) is a fascinating field of study!', \"It's a branch of artificial intelligence (AI) that focuses on the interaction between computers and humans through natural language.\", 'NLP involves several tasks such as text analysis, sentiment analysis, machine translation, and much more.', 'In recent years, the advancements in NLP have been remarkable, with technologies like GPT-3 making headlines.', 'Email: example@example.com.', 'Visit us at http://www.example.com for more information.']\n"
          ]
        }
      ]
    },
    {
      "cell_type": "code",
      "source": [
        "stemmer = PorterStemmer()"
      ],
      "metadata": {
        "id": "hKJmeC1mzTuI"
      },
      "execution_count": null,
      "outputs": []
    },
    {
      "cell_type": "code",
      "source": [
        "stemmer.stem('history')"
      ],
      "metadata": {
        "colab": {
          "base_uri": "https://localhost:8080/",
          "height": 36
        },
        "id": "xNVvWow3zTxJ",
        "outputId": "f522f199-bd8c-4c0b-931d-9ce6040540e1"
      },
      "execution_count": null,
      "outputs": [
        {
          "output_type": "execute_result",
          "data": {
            "text/plain": [
              "'histori'"
            ],
            "application/vnd.google.colaboratory.intrinsic+json": {
              "type": "string"
            }
          },
          "metadata": {},
          "execution_count": 110
        }
      ]
    },
    {
      "cell_type": "code",
      "source": [
        "stemmer.stem('goes')"
      ],
      "metadata": {
        "colab": {
          "base_uri": "https://localhost:8080/",
          "height": 36
        },
        "id": "5Q9JNAqdzTz2",
        "outputId": "0d6109c4-65ba-4fdb-c3f9-915015c596a9"
      },
      "execution_count": null,
      "outputs": [
        {
          "output_type": "execute_result",
          "data": {
            "text/plain": [
              "'goe'"
            ],
            "application/vnd.google.colaboratory.intrinsic+json": {
              "type": "string"
            }
          },
          "metadata": {},
          "execution_count": 111
        }
      ]
    },
    {
      "cell_type": "code",
      "source": [
        "from nltk.stem import WordNetLemmatizer\n",
        "nltk.download('wordnet')"
      ],
      "metadata": {
        "colab": {
          "base_uri": "https://localhost:8080/"
        },
        "id": "Dr22DovazT2q",
        "outputId": "018fa46d-babd-4c94-b0f5-7c13393bcd18"
      },
      "execution_count": null,
      "outputs": [
        {
          "output_type": "stream",
          "name": "stderr",
          "text": [
            "[nltk_data] Downloading package wordnet to /root/nltk_data...\n",
            "[nltk_data]   Package wordnet is already up-to-date!\n"
          ]
        },
        {
          "output_type": "execute_result",
          "data": {
            "text/plain": [
              "True"
            ]
          },
          "metadata": {},
          "execution_count": 112
        }
      ]
    },
    {
      "cell_type": "code",
      "source": [
        "lemmatizer = WordNetLemmatizer()"
      ],
      "metadata": {
        "id": "nSk3AxS608Fr"
      },
      "execution_count": null,
      "outputs": []
    },
    {
      "cell_type": "code",
      "source": [
        "lemmatizer.lemmatize('goes')"
      ],
      "metadata": {
        "colab": {
          "base_uri": "https://localhost:8080/",
          "height": 36
        },
        "id": "H51TY7Cb08P-",
        "outputId": "9b1f6360-e107-408e-8f19-99c8d5762b35"
      },
      "execution_count": null,
      "outputs": [
        {
          "output_type": "execute_result",
          "data": {
            "text/plain": [
              "'go'"
            ],
            "application/vnd.google.colaboratory.intrinsic+json": {
              "type": "string"
            }
          },
          "metadata": {},
          "execution_count": 114
        }
      ]
    },
    {
      "cell_type": "code",
      "source": [
        "lemmatizer.lemmatize('history')"
      ],
      "metadata": {
        "colab": {
          "base_uri": "https://localhost:8080/",
          "height": 36
        },
        "id": "Yz3ZR_3x08TQ",
        "outputId": "b1157976-4c49-4438-d50a-f4af4d879536"
      },
      "execution_count": null,
      "outputs": [
        {
          "output_type": "execute_result",
          "data": {
            "text/plain": [
              "'history'"
            ],
            "application/vnd.google.colaboratory.intrinsic+json": {
              "type": "string"
            }
          },
          "metadata": {},
          "execution_count": 115
        }
      ]
    },
    {
      "cell_type": "code",
      "source": [
        "##Removing stop words from sentences\n",
        "len(sentences)\n"
      ],
      "metadata": {
        "colab": {
          "base_uri": "https://localhost:8080/"
        },
        "id": "DY-nsLIw08Xu",
        "outputId": "2cf5d2b0-cef0-4a50-880a-f78ee3f33880"
      },
      "execution_count": null,
      "outputs": [
        {
          "output_type": "execute_result",
          "data": {
            "text/plain": [
              "6"
            ]
          },
          "metadata": {},
          "execution_count": 116
        }
      ]
    },
    {
      "cell_type": "code",
      "source": [
        "import re"
      ],
      "metadata": {
        "id": "bdwoR0VF08cQ"
      },
      "execution_count": null,
      "outputs": []
    },
    {
      "cell_type": "code",
      "source": [
        "corpus=[]\n",
        "for sent in sentences:\n",
        "  print(sent)"
      ],
      "metadata": {
        "colab": {
          "base_uri": "https://localhost:8080/"
        },
        "id": "HkLsjKnn08fY",
        "outputId": "49394a05-d5cb-4393-ac44-b3c5fc8c1c91"
      },
      "execution_count": null,
      "outputs": [
        {
          "output_type": "stream",
          "name": "stdout",
          "text": [
            " Natural Language Processing (NLP) is a fascinating field of study!\n",
            "It's a branch of artificial intelligence (AI) that focuses on the interaction between computers and humans through natural language.\n",
            "NLP involves several tasks such as text analysis, sentiment analysis, machine translation, and much more.\n",
            "In recent years, the advancements in NLP have been remarkable, with technologies like GPT-3 making headlines.\n",
            "Email: example@example.com.\n",
            "Visit us at http://www.example.com for more information.\n"
          ]
        }
      ]
    },
    {
      "cell_type": "code",
      "source": [
        "for sent in sentences:\n",
        "  review = re.sub('[^a-zA-Z]',' ',sent) # removing evry special charcter other than [^a-zA-Z@.] and replacing thwm with space \" \"\n",
        "  review = review.lower()\n",
        "  corpus.append(review)\n"
      ],
      "metadata": {
        "id": "SnNh6GQH08iZ"
      },
      "execution_count": null,
      "outputs": []
    },
    {
      "cell_type": "code",
      "source": [
        "corpus"
      ],
      "metadata": {
        "colab": {
          "base_uri": "https://localhost:8080/"
        },
        "id": "1Khv87dp08nC",
        "outputId": "ee8d525f-840e-4d7e-9b33-0600d2b26728"
      },
      "execution_count": null,
      "outputs": [
        {
          "output_type": "execute_result",
          "data": {
            "text/plain": [
              "[' natural language processing  nlp  is a fascinating field of study ',\n",
              " 'it s a branch of artificial intelligence  ai  that focuses on the interaction between computers and humans through natural language ',\n",
              " 'nlp involves several tasks such as text analysis  sentiment analysis  machine translation  and much more ',\n",
              " 'in recent years  the advancements in nlp have been remarkable  with technologies like gpt   making headlines ',\n",
              " 'email  example example com ',\n",
              " 'visit us at http   www example com for more information ']"
            ]
          },
          "metadata": {},
          "execution_count": 120
        }
      ]
    },
    {
      "cell_type": "code",
      "source": [
        "nltk.download('stopwords')\n",
        "stopwords = stopwords.words('english')"
      ],
      "metadata": {
        "colab": {
          "base_uri": "https://localhost:8080/"
        },
        "id": "skPjKTf208qa",
        "outputId": "9b42d38d-6148-46b4-a478-800dc8fec4d7"
      },
      "execution_count": null,
      "outputs": [
        {
          "output_type": "stream",
          "name": "stderr",
          "text": [
            "[nltk_data] Downloading package stopwords to /root/nltk_data...\n",
            "[nltk_data]   Package stopwords is already up-to-date!\n"
          ]
        }
      ]
    },
    {
      "cell_type": "code",
      "source": [
        "#stemming\n",
        "for doc in corpus:\n",
        "  words = nltk.word_tokenize(doc)\n",
        "  for word in words:\n",
        "    if word not in stopwords:\n",
        "      print(stemmer.stem(word))"
      ],
      "metadata": {
        "colab": {
          "base_uri": "https://localhost:8080/"
        },
        "id": "RbViKjG9zT5O",
        "outputId": "1b74c2bd-7a56-4d0f-aac7-b565a788c6c3"
      },
      "execution_count": null,
      "outputs": [
        {
          "output_type": "stream",
          "name": "stdout",
          "text": [
            "natur\n",
            "languag\n",
            "process\n",
            "nlp\n",
            "fascin\n",
            "field\n",
            "studi\n",
            "branch\n",
            "artifici\n",
            "intellig\n",
            "ai\n",
            "focus\n",
            "interact\n",
            "comput\n",
            "human\n",
            "natur\n",
            "languag\n",
            "nlp\n",
            "involv\n",
            "sever\n",
            "task\n",
            "text\n",
            "analysi\n",
            "sentiment\n",
            "analysi\n",
            "machin\n",
            "translat\n",
            "much\n",
            "recent\n",
            "year\n",
            "advanc\n",
            "nlp\n",
            "remark\n",
            "technolog\n",
            "like\n",
            "gpt\n",
            "make\n",
            "headlin\n",
            "email\n",
            "exampl\n",
            "exampl\n",
            "com\n",
            "visit\n",
            "us\n",
            "http\n",
            "www\n",
            "exampl\n",
            "com\n",
            "inform\n"
          ]
        }
      ]
    },
    {
      "cell_type": "code",
      "source": [
        "##lemmatization\n",
        "for doc in corpus:\n",
        "  words = nltk.word_tokenize(doc)\n",
        "  for word in words:\n",
        "    if word not in stopwords:\n",
        "      print(lemmatizer.lemmatize(word))"
      ],
      "metadata": {
        "colab": {
          "base_uri": "https://localhost:8080/"
        },
        "id": "wZqEcZS35L88",
        "outputId": "616e0e77-7179-49ca-8aec-518ad145cc0e"
      },
      "execution_count": null,
      "outputs": [
        {
          "output_type": "stream",
          "name": "stdout",
          "text": [
            "natural\n",
            "language\n",
            "processing\n",
            "nlp\n",
            "fascinating\n",
            "field\n",
            "study\n",
            "branch\n",
            "artificial\n",
            "intelligence\n",
            "ai\n",
            "focus\n",
            "interaction\n",
            "computer\n",
            "human\n",
            "natural\n",
            "language\n",
            "nlp\n",
            "involves\n",
            "several\n",
            "task\n",
            "text\n",
            "analysis\n",
            "sentiment\n",
            "analysis\n",
            "machine\n",
            "translation\n",
            "much\n",
            "recent\n",
            "year\n",
            "advancement\n",
            "nlp\n",
            "remarkable\n",
            "technology\n",
            "like\n",
            "gpt\n",
            "making\n",
            "headline\n",
            "email\n",
            "example\n",
            "example\n",
            "com\n",
            "visit\n",
            "u\n",
            "http\n",
            "www\n",
            "example\n",
            "com\n",
            "information\n"
          ]
        }
      ]
    },
    {
      "cell_type": "code",
      "source": [
        "##Doing the above steps step - wise\n",
        "\n",
        "import re\n",
        "corpus=[]\n",
        "\n",
        "for i in range (len(sentences)):\n",
        "  review = re.sub('[^a-zA-Z]',' ',sentences[i])\n",
        "  review = review.lower()\n",
        "  review = review.split() # gets each sentences\n",
        "  review = [lemmatizer.lemmatize(word) for word in review if not word in set(stopwords)]\n",
        "  review = ' '.join(review)\n",
        "  corpus.append(review)"
      ],
      "metadata": {
        "id": "uzXgrgZF5MDV"
      },
      "execution_count": null,
      "outputs": []
    },
    {
      "cell_type": "code",
      "source": [
        "corpus"
      ],
      "metadata": {
        "colab": {
          "base_uri": "https://localhost:8080/"
        },
        "id": "8vR3eDx_9ROF",
        "outputId": "7e6501d0-3569-4be9-92aa-1cc6958d8e04"
      },
      "execution_count": null,
      "outputs": [
        {
          "output_type": "execute_result",
          "data": {
            "text/plain": [
              "['natural language processing nlp fascinating field study',\n",
              " 'branch artificial intelligence ai focus interaction computer human natural language',\n",
              " 'nlp involves several task text analysis sentiment analysis machine translation much',\n",
              " 'recent year advancement nlp remarkable technology like gpt making headline',\n",
              " 'email example example com',\n",
              " 'visit u http www example com information']"
            ]
          },
          "metadata": {},
          "execution_count": 125
        }
      ]
    },
    {
      "cell_type": "code",
      "source": [
        "#Bag Of Words\n",
        "from sklearn.feature_extraction.text import CountVectorizer # to extract features from text\n",
        "cv = CountVectorizer(binary =True,ngram_range=(2,3)) #includes both bigram and trigram\n"
      ],
      "metadata": {
        "id": "3AOX9KEL5MGV"
      },
      "execution_count": null,
      "outputs": []
    },
    {
      "cell_type": "code",
      "source": [
        "x = cv.fit_transform(corpus)"
      ],
      "metadata": {
        "id": "aWygvTPo-Fpi"
      },
      "execution_count": null,
      "outputs": []
    },
    {
      "cell_type": "code",
      "source": [
        "cv.vocabulary_"
      ],
      "metadata": {
        "colab": {
          "base_uri": "https://localhost:8080/"
        },
        "id": "zpPoAf42-Pon",
        "outputId": "9e3be4df-9d98-4fc5-c378-f750d8d46b6c"
      },
      "execution_count": null,
      "outputs": [
        {
          "output_type": "execute_result",
          "data": {
            "text/plain": [
              "{'natural language': 45,\n",
              " 'language processing': 38,\n",
              " 'processing nlp': 53,\n",
              " 'nlp fascinating': 47,\n",
              " 'fascinating field': 21,\n",
              " 'field study': 23,\n",
              " 'natural language processing': 46,\n",
              " 'language processing nlp': 39,\n",
              " 'processing nlp fascinating': 54,\n",
              " 'nlp fascinating field': 48,\n",
              " 'fascinating field study': 22,\n",
              " 'branch artificial': 10,\n",
              " 'artificial intelligence': 8,\n",
              " 'intelligence ai': 32,\n",
              " 'ai focus': 2,\n",
              " 'focus interaction': 24,\n",
              " 'interaction computer': 34,\n",
              " 'computer human': 13,\n",
              " 'human natural': 30,\n",
              " 'branch artificial intelligence': 11,\n",
              " 'artificial intelligence ai': 9,\n",
              " 'intelligence ai focus': 33,\n",
              " 'ai focus interaction': 3,\n",
              " 'focus interaction computer': 25,\n",
              " 'interaction computer human': 35,\n",
              " 'computer human natural': 14,\n",
              " 'human natural language': 31,\n",
              " 'nlp involves': 49,\n",
              " 'involves several': 36,\n",
              " 'several task': 61,\n",
              " 'task text': 63,\n",
              " 'text analysis': 67,\n",
              " 'analysis sentiment': 6,\n",
              " 'sentiment analysis': 59,\n",
              " 'analysis machine': 4,\n",
              " 'machine translation': 42,\n",
              " 'translation much': 69,\n",
              " 'nlp involves several': 50,\n",
              " 'involves several task': 37,\n",
              " 'several task text': 62,\n",
              " 'task text analysis': 64,\n",
              " 'text analysis sentiment': 68,\n",
              " 'analysis sentiment analysis': 7,\n",
              " 'sentiment analysis machine': 60,\n",
              " 'analysis machine translation': 5,\n",
              " 'machine translation much': 43,\n",
              " 'recent year': 55,\n",
              " 'year advancement': 74,\n",
              " 'advancement nlp': 0,\n",
              " 'nlp remarkable': 51,\n",
              " 'remarkable technology': 57,\n",
              " 'technology like': 65,\n",
              " 'like gpt': 40,\n",
              " 'gpt making': 26,\n",
              " 'making headline': 44,\n",
              " 'recent year advancement': 56,\n",
              " 'year advancement nlp': 75,\n",
              " 'advancement nlp remarkable': 1,\n",
              " 'nlp remarkable technology': 52,\n",
              " 'remarkable technology like': 58,\n",
              " 'technology like gpt': 66,\n",
              " 'like gpt making': 41,\n",
              " 'gpt making headline': 27,\n",
              " 'email example': 15,\n",
              " 'example example': 19,\n",
              " 'example com': 17,\n",
              " 'email example example': 16,\n",
              " 'example example com': 20,\n",
              " 'visit http': 70,\n",
              " 'http www': 28,\n",
              " 'www example': 72,\n",
              " 'com information': 12,\n",
              " 'visit http www': 71,\n",
              " 'http www example': 29,\n",
              " 'www example com': 73,\n",
              " 'example com information': 18}"
            ]
          },
          "metadata": {},
          "execution_count": 128
        }
      ]
    },
    {
      "cell_type": "code",
      "source": [
        "corpus[0]"
      ],
      "metadata": {
        "colab": {
          "base_uri": "https://localhost:8080/",
          "height": 36
        },
        "id": "Kf8T-lw9-6xW",
        "outputId": "096a860a-e749-4de4-ea05-80d1e1a7aa59"
      },
      "execution_count": null,
      "outputs": [
        {
          "output_type": "execute_result",
          "data": {
            "text/plain": [
              "'natural language processing nlp fascinating field study'"
            ],
            "application/vnd.google.colaboratory.intrinsic+json": {
              "type": "string"
            }
          },
          "metadata": {},
          "execution_count": 129
        }
      ]
    },
    {
      "cell_type": "code",
      "source": [
        "len(x[0].toarray())"
      ],
      "metadata": {
        "colab": {
          "base_uri": "https://localhost:8080/"
        },
        "id": "VbgoxJFIHYNp",
        "outputId": "8ff84cca-8185-4b59-dde4-a05ad566791b"
      },
      "execution_count": null,
      "outputs": [
        {
          "output_type": "execute_result",
          "data": {
            "text/plain": [
              "1"
            ]
          },
          "metadata": {},
          "execution_count": 139
        }
      ]
    },
    {
      "cell_type": "code",
      "source": [
        "ar = x[0].toarray()"
      ],
      "metadata": {
        "id": "pinT2nK8-60X"
      },
      "execution_count": null,
      "outputs": []
    },
    {
      "cell_type": "code",
      "source": [
        "ar"
      ],
      "metadata": {
        "colab": {
          "base_uri": "https://localhost:8080/"
        },
        "id": "vHmAt5p8Ifqk",
        "outputId": "7b1dbbbe-a8a4-4b31-bfe2-8340b9209fd3"
      },
      "execution_count": null,
      "outputs": [
        {
          "output_type": "execute_result",
          "data": {
            "text/plain": [
              "array([[0, 0, 0, 0, 0, 0, 0, 0, 0, 0, 0, 0, 0, 0, 0, 0, 0, 0, 0, 0, 0, 1,\n",
              "        1, 1, 0, 0, 0, 0, 0, 0, 0, 0, 0, 0, 0, 0, 0, 0, 1, 1, 0, 0, 0, 0,\n",
              "        0, 1, 1, 1, 1, 0, 0, 0, 0, 1, 1, 0, 0, 0, 0, 0, 0, 0, 0, 0, 0, 0,\n",
              "        0, 0, 0, 0, 0, 0, 0, 0, 0, 0]])"
            ]
          },
          "metadata": {},
          "execution_count": 143
        }
      ]
    },
    {
      "cell_type": "code",
      "source": [
        "len(ar[0]) # size of the vocabullary in teh alpbabetic order were ever we found the match to vocabulary we gave 1 at that index"
      ],
      "metadata": {
        "colab": {
          "base_uri": "https://localhost:8080/"
        },
        "id": "dQWIlefIIHg_",
        "outputId": "da18038c-c2b0-4d69-f8a0-e44ed9be0599"
      },
      "execution_count": null,
      "outputs": [
        {
          "output_type": "execute_result",
          "data": {
            "text/plain": [
              "76"
            ]
          },
          "metadata": {},
          "execution_count": 142
        }
      ]
    },
    {
      "cell_type": "code",
      "source": [
        "x.toarray()"
      ],
      "metadata": {
        "colab": {
          "base_uri": "https://localhost:8080/"
        },
        "id": "mlmCNz35-64I",
        "outputId": "1b7f2b8b-b053-4223-e888-2c9fe49eb8da"
      },
      "execution_count": null,
      "outputs": [
        {
          "output_type": "execute_result",
          "data": {
            "text/plain": [
              "array([[0, 0, 0, 0, 0, 0, 0, 0, 0, 0, 0, 0, 0, 0, 0, 0, 0, 0, 0, 0, 0, 1,\n",
              "        1, 1, 0, 0, 0, 0, 0, 0, 0, 0, 0, 0, 0, 0, 0, 0, 1, 1, 0, 0, 0, 0,\n",
              "        0, 1, 1, 1, 1, 0, 0, 0, 0, 1, 1, 0, 0, 0, 0, 0, 0, 0, 0, 0, 0, 0,\n",
              "        0, 0, 0, 0, 0, 0, 0, 0, 0, 0],\n",
              "       [0, 0, 1, 1, 0, 0, 0, 0, 1, 1, 1, 1, 0, 1, 1, 0, 0, 0, 0, 0, 0, 0,\n",
              "        0, 0, 1, 1, 0, 0, 0, 0, 1, 1, 1, 1, 1, 1, 0, 0, 0, 0, 0, 0, 0, 0,\n",
              "        0, 1, 0, 0, 0, 0, 0, 0, 0, 0, 0, 0, 0, 0, 0, 0, 0, 0, 0, 0, 0, 0,\n",
              "        0, 0, 0, 0, 0, 0, 0, 0, 0, 0],\n",
              "       [0, 0, 0, 0, 1, 1, 1, 1, 0, 0, 0, 0, 0, 0, 0, 0, 0, 0, 0, 0, 0, 0,\n",
              "        0, 0, 0, 0, 0, 0, 0, 0, 0, 0, 0, 0, 0, 0, 1, 1, 0, 0, 0, 0, 1, 1,\n",
              "        0, 0, 0, 0, 0, 1, 1, 0, 0, 0, 0, 0, 0, 0, 0, 1, 1, 1, 1, 1, 1, 0,\n",
              "        0, 1, 1, 1, 0, 0, 0, 0, 0, 0],\n",
              "       [1, 1, 0, 0, 0, 0, 0, 0, 0, 0, 0, 0, 0, 0, 0, 0, 0, 0, 0, 0, 0, 0,\n",
              "        0, 0, 0, 0, 1, 1, 0, 0, 0, 0, 0, 0, 0, 0, 0, 0, 0, 0, 1, 1, 0, 0,\n",
              "        1, 0, 0, 0, 0, 0, 0, 1, 1, 0, 0, 1, 1, 1, 1, 0, 0, 0, 0, 0, 0, 1,\n",
              "        1, 0, 0, 0, 0, 0, 0, 0, 1, 1],\n",
              "       [0, 0, 0, 0, 0, 0, 0, 0, 0, 0, 0, 0, 0, 0, 0, 1, 1, 1, 0, 1, 1, 0,\n",
              "        0, 0, 0, 0, 0, 0, 0, 0, 0, 0, 0, 0, 0, 0, 0, 0, 0, 0, 0, 0, 0, 0,\n",
              "        0, 0, 0, 0, 0, 0, 0, 0, 0, 0, 0, 0, 0, 0, 0, 0, 0, 0, 0, 0, 0, 0,\n",
              "        0, 0, 0, 0, 0, 0, 0, 0, 0, 0],\n",
              "       [0, 0, 0, 0, 0, 0, 0, 0, 0, 0, 0, 0, 1, 0, 0, 0, 0, 1, 1, 0, 0, 0,\n",
              "        0, 0, 0, 0, 0, 0, 1, 1, 0, 0, 0, 0, 0, 0, 0, 0, 0, 0, 0, 0, 0, 0,\n",
              "        0, 0, 0, 0, 0, 0, 0, 0, 0, 0, 0, 0, 0, 0, 0, 0, 0, 0, 0, 0, 0, 0,\n",
              "        0, 0, 0, 0, 1, 1, 1, 1, 0, 0]])"
            ]
          },
          "metadata": {},
          "execution_count": 131
        }
      ]
    },
    {
      "cell_type": "code",
      "source": [],
      "metadata": {
        "id": "hpuojgb4zT8C"
      },
      "execution_count": null,
      "outputs": []
    },
    {
      "cell_type": "code",
      "source": [
        "## an example for the above\n",
        "\n",
        "\n",
        "\n",
        "from sklearn.feature_extraction.text import CountVectorizer\n",
        "\n",
        "# Sample text\n",
        "text = [\"Natural language processing is fascinating.\"]\n",
        "\n",
        "# Create the CountVectorizer with ngram_range (2, 3)\n",
        "vectorizer = CountVectorizer(ngram_range=(2, 3))\n",
        "\n",
        "# Fit and transform the text\n",
        "X = vectorizer.fit_transform(text)\n",
        "\n",
        "# Get the feature names (the n-grams)\n",
        "features = vectorizer.get_feature_names_out()\n",
        "\n",
        "# Convert the result to an array\n",
        "X_array = X.toarray()\n",
        "\n",
        "# Display the results\n",
        "print(\"N-grams:\", features)\n",
        "print(\"BoW Representation:\\n\", X_array)\n",
        "\n",
        "\n",
        "\n"
      ],
      "metadata": {
        "colab": {
          "base_uri": "https://localhost:8080/"
        },
        "id": "JzkmojCfzT_h",
        "outputId": "f51a0f3a-3b15-4ea0-987c-036990ff5b54"
      },
      "execution_count": null,
      "outputs": [
        {
          "output_type": "stream",
          "name": "stdout",
          "text": [
            "N-grams: ['is fascinating' 'language processing' 'language processing is'\n",
            " 'natural language' 'natural language processing' 'processing is'\n",
            " 'processing is fascinating']\n",
            "BoW Representation:\n",
            " [[1 1 1 1 1 1 1]]\n"
          ]
        }
      ]
    },
    {
      "cell_type": "code",
      "source": [
        "vectorizer.vocabulary_ # vocabulary length == BOW length\n"
      ],
      "metadata": {
        "colab": {
          "base_uri": "https://localhost:8080/"
        },
        "id": "ffx1akxWFXYm",
        "outputId": "9213c9f8-9c85-4f3c-b2bd-133c0d53cc90"
      },
      "execution_count": null,
      "outputs": [
        {
          "output_type": "execute_result",
          "data": {
            "text/plain": [
              "{'natural language': 3,\n",
              " 'language processing': 1,\n",
              " 'processing is': 5,\n",
              " 'is fascinating': 0,\n",
              " 'natural language processing': 4,\n",
              " 'language processing is': 2,\n",
              " 'processing is fascinating': 6}"
            ]
          },
          "metadata": {},
          "execution_count": 133
        }
      ]
    },
    {
      "cell_type": "markdown",
      "source": [
        "The unique 2-grams and 3-grams found in the text are:\n",
        "These aere based on the alphabetic order\n",
        "\n",
        "\"is fascinating\"\n",
        "\"language processing\"\n",
        "\"language processing is\"\n",
        "\"natural language\"\n",
        "\"natural language processing\"\n",
        "\"processing is\"\n",
        "\"processing is fascinating\"\n",
        "BoW Representation\n",
        "The BoW vector representing the frequency of each n-gram is:\n",
        "[1,1,1,1,1,1,1]\n",
        "\n",
        "This means that each of the listed n-grams appears exactly once in the sample text. Here’s the breakdown:\n",
        "\n",
        "\"is fascinating\": 1 occurrence\n",
        "\"language processing\": 1 occurrence\n",
        "\"language processing is\": 1 occurrence\n",
        "\"natural language\": 1 occurrence\n",
        "\"natural language processing\": 1 occurrence\n",
        "\"processing is\": 1 occurrence\n",
        "\"processing is fascinating\": 1 occurrence\n",
        "This vector representation can be used in various natural language processing tasks such as text classification, clustering, and more. ​"
      ],
      "metadata": {
        "id": "4ZzdVUryEdyf"
      }
    },
    {
      "cell_type": "code",
      "source": [
        "##TF-IDF\n",
        "\n",
        "from sklearn.feature_extraction.text import TfidfVectorizer\n",
        "cv = TfidfVectorizer(ngram_range=(2,3)) #max_feature can be used to get the features that are presented many tumes like if 3 or 5 or 10\n",
        "X = cv.fit_transform(corpus)"
      ],
      "metadata": {
        "id": "_jUkSTwPKPju"
      },
      "execution_count": null,
      "outputs": []
    },
    {
      "cell_type": "code",
      "source": [
        "cv.vocabulary_"
      ],
      "metadata": {
        "colab": {
          "base_uri": "https://localhost:8080/"
        },
        "id": "NKh7Eav0M_yH",
        "outputId": "9ed56abf-14b9-4449-afba-9a71aa0e7a57"
      },
      "execution_count": null,
      "outputs": [
        {
          "output_type": "execute_result",
          "data": {
            "text/plain": [
              "{'natural language': 45,\n",
              " 'language processing': 38,\n",
              " 'processing nlp': 53,\n",
              " 'nlp fascinating': 47,\n",
              " 'fascinating field': 21,\n",
              " 'field study': 23,\n",
              " 'natural language processing': 46,\n",
              " 'language processing nlp': 39,\n",
              " 'processing nlp fascinating': 54,\n",
              " 'nlp fascinating field': 48,\n",
              " 'fascinating field study': 22,\n",
              " 'branch artificial': 10,\n",
              " 'artificial intelligence': 8,\n",
              " 'intelligence ai': 32,\n",
              " 'ai focus': 2,\n",
              " 'focus interaction': 24,\n",
              " 'interaction computer': 34,\n",
              " 'computer human': 13,\n",
              " 'human natural': 30,\n",
              " 'branch artificial intelligence': 11,\n",
              " 'artificial intelligence ai': 9,\n",
              " 'intelligence ai focus': 33,\n",
              " 'ai focus interaction': 3,\n",
              " 'focus interaction computer': 25,\n",
              " 'interaction computer human': 35,\n",
              " 'computer human natural': 14,\n",
              " 'human natural language': 31,\n",
              " 'nlp involves': 49,\n",
              " 'involves several': 36,\n",
              " 'several task': 61,\n",
              " 'task text': 63,\n",
              " 'text analysis': 67,\n",
              " 'analysis sentiment': 6,\n",
              " 'sentiment analysis': 59,\n",
              " 'analysis machine': 4,\n",
              " 'machine translation': 42,\n",
              " 'translation much': 69,\n",
              " 'nlp involves several': 50,\n",
              " 'involves several task': 37,\n",
              " 'several task text': 62,\n",
              " 'task text analysis': 64,\n",
              " 'text analysis sentiment': 68,\n",
              " 'analysis sentiment analysis': 7,\n",
              " 'sentiment analysis machine': 60,\n",
              " 'analysis machine translation': 5,\n",
              " 'machine translation much': 43,\n",
              " 'recent year': 55,\n",
              " 'year advancement': 74,\n",
              " 'advancement nlp': 0,\n",
              " 'nlp remarkable': 51,\n",
              " 'remarkable technology': 57,\n",
              " 'technology like': 65,\n",
              " 'like gpt': 40,\n",
              " 'gpt making': 26,\n",
              " 'making headline': 44,\n",
              " 'recent year advancement': 56,\n",
              " 'year advancement nlp': 75,\n",
              " 'advancement nlp remarkable': 1,\n",
              " 'nlp remarkable technology': 52,\n",
              " 'remarkable technology like': 58,\n",
              " 'technology like gpt': 66,\n",
              " 'like gpt making': 41,\n",
              " 'gpt making headline': 27,\n",
              " 'email example': 15,\n",
              " 'example example': 19,\n",
              " 'example com': 17,\n",
              " 'email example example': 16,\n",
              " 'example example com': 20,\n",
              " 'visit http': 70,\n",
              " 'http www': 28,\n",
              " 'www example': 72,\n",
              " 'com information': 12,\n",
              " 'visit http www': 71,\n",
              " 'http www example': 29,\n",
              " 'www example com': 73,\n",
              " 'example com information': 18}"
            ]
          },
          "metadata": {},
          "execution_count": 149
        }
      ]
    },
    {
      "cell_type": "code",
      "source": [
        "corpus[0]"
      ],
      "metadata": {
        "colab": {
          "base_uri": "https://localhost:8080/",
          "height": 36
        },
        "id": "S4Y7lMsKKPnL",
        "outputId": "10a0022b-c81a-4b7b-de80-3b29632f9331"
      },
      "execution_count": null,
      "outputs": [
        {
          "output_type": "execute_result",
          "data": {
            "text/plain": [
              "'natural language processing nlp fascinating field study'"
            ],
            "application/vnd.google.colaboratory.intrinsic+json": {
              "type": "string"
            }
          },
          "metadata": {},
          "execution_count": 150
        }
      ]
    },
    {
      "cell_type": "code",
      "source": [
        "X[0]"
      ],
      "metadata": {
        "colab": {
          "base_uri": "https://localhost:8080/"
        },
        "id": "yq0QxeOpKPtS",
        "outputId": "6d28f3e1-7f85-46ee-8a28-ac14a00905f0"
      },
      "execution_count": null,
      "outputs": [
        {
          "output_type": "execute_result",
          "data": {
            "text/plain": [
              "<1x76 sparse matrix of type '<class 'numpy.float64'>'\n",
              "\twith 11 stored elements in Compressed Sparse Row format>"
            ]
          },
          "metadata": {},
          "execution_count": 151
        }
      ]
    },
    {
      "cell_type": "code",
      "source": [
        "ar = X[0].toarray()"
      ],
      "metadata": {
        "id": "vdqwr8lbK05L"
      },
      "execution_count": null,
      "outputs": []
    },
    {
      "cell_type": "code",
      "source": [
        "ar"
      ],
      "metadata": {
        "colab": {
          "base_uri": "https://localhost:8080/"
        },
        "id": "-_65jiPNL3ss",
        "outputId": "cc33022c-062e-4f14-cef7-bb61444f042e"
      },
      "execution_count": null,
      "outputs": [
        {
          "output_type": "execute_result",
          "data": {
            "text/plain": [
              "array([[0.        , 0.        , 0.        , 0.        , 0.        ,\n",
              "        0.        , 0.        , 0.        , 0.        , 0.        ,\n",
              "        0.        , 0.        , 0.        , 0.        , 0.        ,\n",
              "        0.        , 0.        , 0.        , 0.        , 0.        ,\n",
              "        0.        , 0.30610363, 0.30610363, 0.30610363, 0.        ,\n",
              "        0.        , 0.        , 0.        , 0.        , 0.        ,\n",
              "        0.        , 0.        , 0.        , 0.        , 0.        ,\n",
              "        0.        , 0.        , 0.        , 0.30610363, 0.30610363,\n",
              "        0.        , 0.        , 0.        , 0.        , 0.        ,\n",
              "        0.25100935, 0.30610363, 0.30610363, 0.30610363, 0.        ,\n",
              "        0.        , 0.        , 0.        , 0.30610363, 0.30610363,\n",
              "        0.        , 0.        , 0.        , 0.        , 0.        ,\n",
              "        0.        , 0.        , 0.        , 0.        , 0.        ,\n",
              "        0.        , 0.        , 0.        , 0.        , 0.        ,\n",
              "        0.        , 0.        , 0.        , 0.        , 0.        ,\n",
              "        0.        ]])"
            ]
          },
          "metadata": {},
          "execution_count": 154
        }
      ]
    },
    {
      "cell_type": "code",
      "source": [
        "len(ar[0\n",
        "       ])"
      ],
      "metadata": {
        "colab": {
          "base_uri": "https://localhost:8080/"
        },
        "id": "y8WkrmkSL3wE",
        "outputId": "487a5784-d023-4da7-8cd1-24ea400a10f1"
      },
      "execution_count": null,
      "outputs": [
        {
          "output_type": "execute_result",
          "data": {
            "text/plain": [
              "76"
            ]
          },
          "metadata": {},
          "execution_count": 156
        }
      ]
    }
  ]
}